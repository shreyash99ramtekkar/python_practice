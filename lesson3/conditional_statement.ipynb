{
 "cells": [
  {
   "cell_type": "markdown",
   "metadata": {},
   "source": [
    "# conditional statment\n",
    "if\n",
    "elif\n",
    "else\n",
    "\n",
    "control the flow of execution.\n"
   ]
  },
  {
   "cell_type": "code",
   "execution_count": 4,
   "metadata": {},
   "outputs": [
    {
     "name": "stdout",
     "output_type": "stream",
     "text": [
      "it is false\n"
     ]
    }
   ],
   "source": [
    "if(3>4):\n",
    "    print('yes this is true')\n",
    "else:\n",
    "    print('it is false')"
   ]
  },
  {
   "cell_type": "code",
   "execution_count": 8,
   "metadata": {},
   "outputs": [
    {
     "name": "stdout",
     "output_type": "stream",
     "text": [
      "this is no 3\n"
     ]
    }
   ],
   "source": [
    "i =3\n",
    "if i==1:\n",
    "    print('this is no 1')\n",
    "elif i==2:\n",
    "    print('this is no 2')\n",
    "elif i==3:\n",
    "    print('this is no 3')"
   ]
  },
  {
   "cell_type": "code",
   "execution_count": 9,
   "metadata": {},
   "outputs": [
    {
     "name": "stdout",
     "output_type": "stream",
     "text": [
      "this statements are true\n"
     ]
    }
   ],
   "source": [
    "if True:\n",
    "    print('this statements are true')"
   ]
  },
  {
   "cell_type": "code",
   "execution_count": null,
   "metadata": {},
   "outputs": [],
   "source": []
  }
 ],
 "metadata": {
  "kernelspec": {
   "display_name": "Python 3",
   "language": "python",
   "name": "python3"
  },
  "language_info": {
   "codemirror_mode": {
    "name": "ipython",
    "version": 3
   },
   "file_extension": ".py",
   "mimetype": "text/x-python",
   "name": "python",
   "nbconvert_exporter": "python",
   "pygments_lexer": "ipython3",
   "version": "3.7.3"
  }
 },
 "nbformat": 4,
 "nbformat_minor": 2
}
