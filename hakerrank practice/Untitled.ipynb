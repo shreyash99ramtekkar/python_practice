{
 "cells": [
  {
   "cell_type": "code",
   "execution_count": null,
   "metadata": {},
   "outputs": [],
   "source": [
    "lst = []\n",
    "for _ in range(int(input())):\n",
    "    name = input()\n",
    "    score = float(input())\n",
    "    lst.append([name,score])\n",
    "marks=[]\n",
    "names = []\n",
    "for item in lst:\n",
    "    marks.append(item[1])\n",
    "marks.sort()\n",
    "se= list(set(marks))\n",
    "low = se[1]\n",
    "for item in lst:\n",
    "    if(item[1]==low):\n",
    "        names.append(item[0])\n",
    "names.sort()\n",
    "for item in names:\n",
    "        print(item)\n"
   ]
  },
  {
   "cell_type": "code",
   "execution_count": 1,
   "metadata": {},
   "outputs": [],
   "source": [
    "li = [2,3,4,5]"
   ]
  },
  {
   "cell_type": "code",
   "execution_count": 3,
   "metadata": {},
   "outputs": [
    {
     "ename": "ValueError",
     "evalue": "list.remove(x): x not in list",
     "output_type": "error",
     "traceback": [
      "\u001b[0;31m---------------------------------------------------------------------------\u001b[0m",
      "\u001b[0;31mValueError\u001b[0m                                Traceback (most recent call last)",
      "\u001b[0;32m<ipython-input-3-1169016b7b11>\u001b[0m in \u001b[0;36m<module>\u001b[0;34m\u001b[0m\n\u001b[1;32m      1\u001b[0m \u001b[0;34m\u001b[0m\u001b[0m\n\u001b[0;32m----> 2\u001b[0;31m \u001b[0mli\u001b[0m\u001b[0;34m.\u001b[0m\u001b[0mremove\u001b[0m\u001b[0;34m(\u001b[0m\u001b[0;36m0\u001b[0m\u001b[0;34m)\u001b[0m\u001b[0;34m\u001b[0m\u001b[0;34m\u001b[0m\u001b[0m\n\u001b[0m",
      "\u001b[0;31mValueError\u001b[0m: list.remove(x): x not in list"
     ]
    }
   ],
   "source": [
    "li."
   ]
  },
  {
   "cell_type": "code",
   "execution_count": 5,
   "metadata": {},
   "outputs": [],
   "source": [
    "ls= []"
   ]
  },
  {
   "cell_type": "code",
   "execution_count": 1,
   "metadata": {},
   "outputs": [],
   "source": [
    "\n",
    "import pdb"
   ]
  },
  {
   "cell_type": "code",
   "execution_count": 3,
   "metadata": {},
   "outputs": [
    {
     "name": "stdout",
     "output_type": "stream",
     "text": [
      "12\n",
      "insert 0 5\n",
      "insert 1 10\n",
      "insert 0 6\n",
      "print\n",
      "[6, 5, 10]\n",
      "remove 6\n",
      "append 9\n",
      "append 1\n",
      "sort\n",
      "print\n",
      "[1, 5, 9, 10]\n",
      "pop\n",
      "reverse\n",
      "print\n",
      "[9, 5, 1]\n"
     ]
    }
   ],
   "source": [
    "\n",
    "if __name__ == '__main__':\n",
    "    N = int(input())\n",
    "    values = []\n",
    "    li = []\n",
    "    for i in range(0,N):\n",
    "        cmdvalues = input()\n",
    "        values = list(map(int,cmdvalues.split()[1:]))\n",
    "        cmd =cmdvalues.split()[0]\n",
    "\n",
    "        if cmd == 'insert':\n",
    "            li.insert(values[0],values[1])\n",
    "        elif cmd == 'print':\n",
    "            print(li)\n",
    "        elif cmd == 'remove':\n",
    "            li.remove(values[0])\n",
    "        elif cmd == 'append':\n",
    "            li.append(values[0])\n",
    "        elif cmd == 'sort':\n",
    "            li.sort()\n",
    "        elif cmd == 'pop':\n",
    "            li.pop()\n",
    "        elif cmd == 'reverse':\n",
    "            li.reverse()\n",
    "        else:\n",
    "            pass    \n",
    "\n",
    "\n",
    "\n"
   ]
  },
  {
   "cell_type": "code",
   "execution_count": null,
   "metadata": {},
   "outputs": [],
   "source": []
  }
 ],
 "metadata": {
  "kernelspec": {
   "display_name": "Python 3",
   "language": "python",
   "name": "python3"
  }
 },
 "nbformat": 4,
 "nbformat_minor": 2
}
