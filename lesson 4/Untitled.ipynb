{
 "cells": [
  {
   "cell_type": "markdown",
   "metadata": {},
   "source": [
    "# Nested Statement and Scope\n",
    "it is going to follow legb rule\n",
    "first it is going to check if the vairable is in the local scope \n",
    "then it will check if the variable is in the enclosing function local\n",
    "then it is going to check in global \n",
    "then it is going to check in keywords"
   ]
  },
  {
   "cell_type": "code",
   "execution_count": 2,
   "metadata": {},
   "outputs": [
    {
     "data": {
      "text/plain": [
       "5"
      ]
     },
     "execution_count": 2,
     "metadata": {},
     "output_type": "execute_result"
    }
   ],
   "source": [
    "add2 = lambda x: x + 2#here x is local variable\n",
    "add2(3)"
   ]
  },
  {
   "cell_type": "code",
   "execution_count": 5,
   "metadata": {},
   "outputs": [],
   "source": [
    "def add_no_2(x):#x is local\n",
    "    return x+2"
   ]
  },
  {
   "cell_type": "code",
   "execution_count": 4,
   "metadata": {},
   "outputs": [
    {
     "data": {
      "text/plain": [
       "5"
      ]
     },
     "execution_count": 4,
     "metadata": {},
     "output_type": "execute_result"
    }
   ],
   "source": [
    "add_no_2(3)"
   ]
  },
  {
   "cell_type": "code",
   "execution_count": 6,
   "metadata": {},
   "outputs": [],
   "source": [
    "x=2\n",
    "def add_no_2():#x is global\n",
    "    return x+2"
   ]
  },
  {
   "cell_type": "code",
   "execution_count": 7,
   "metadata": {},
   "outputs": [
    {
     "data": {
      "text/plain": [
       "4"
      ]
     },
     "execution_count": 7,
     "metadata": {},
     "output_type": "execute_result"
    }
   ],
   "source": [
    "add_no_2()"
   ]
  },
  {
   "cell_type": "code",
   "execution_count": 13,
   "metadata": {},
   "outputs": [
    {
     "data": {
      "text/plain": [
       "5"
      ]
     },
     "execution_count": 13,
     "metadata": {},
     "output_type": "execute_result"
    }
   ],
   "source": [
    "\n",
    "def add_no_2():#x is global\n",
    "    x=2\n",
    "    def add_no_3():# this is elclosed function so it will check the variable is existing in enclosed function or not.\n",
    "        return x+3\n",
    "    return add_no_3()\n",
    "add_no_2()"
   ]
  },
  {
   "cell_type": "code",
   "execution_count": 14,
   "metadata": {},
   "outputs": [
    {
     "data": {
      "text/plain": [
       "<function len(obj, /)>"
      ]
     },
     "execution_count": 14,
     "metadata": {},
     "output_type": "execute_result"
    }
   ],
   "source": [
    "len#this is the in build function"
   ]
  },
  {
   "cell_type": "code",
   "execution_count": 30,
   "metadata": {},
   "outputs": [
    {
     "name": "stdout",
     "output_type": "stream",
     "text": [
      "50 value outside function \n",
      "50 is in the function\n",
      "300 value inside the functio after reasssigning\n"
     ]
    }
   ],
   "source": [
    "x = 50 \n",
    "print(f'{x} value outside function ')\n",
    "def func(x):\n",
    "    print(f'{x} is in the function')\n",
    "     #reassigning variable\n",
    "    x =300\n",
    "    print(f'{x} value inside the functio after reasssigning')\n",
    "\n",
    "func(x)"
   ]
  },
  {
   "cell_type": "code",
   "execution_count": 32,
   "metadata": {},
   "outputs": [
    {
     "name": "stdout",
     "output_type": "stream",
     "text": [
      "50 value outside function \n",
      "50 is in the function\n",
      "300 value inside the functio after reasssigning\n"
     ]
    }
   ],
   "source": [
    "x = 50 \n",
    "print(f'{x} value outside function ')\n",
    "def func():\n",
    "    global x# go to the global varibale namespace and find out the x value\n",
    "    print(f'{x} is in the function')\n",
    "     #reassigning variable\n",
    "    x =300\n",
    "    print(f'{x} value inside the functio after reasssigning')\n",
    "\n",
    "func()"
   ]
  },
  {
   "cell_type": "code",
   "execution_count": null,
   "metadata": {},
   "outputs": [],
   "source": []
  }
 ],
 "metadata": {
  "kernelspec": {
   "display_name": "Python 3",
   "language": "python",
   "name": "python3"
  },
  "language_info": {
   "codemirror_mode": {
    "name": "ipython",
    "version": 3
   },
   "file_extension": ".py",
   "mimetype": "text/x-python",
   "name": "python",
   "nbconvert_exporter": "python",
   "pygments_lexer": "ipython3",
   "version": "3.7.3"
  }
 },
 "nbformat": 4,
 "nbformat_minor": 2
}
