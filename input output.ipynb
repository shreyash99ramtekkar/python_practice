{
 "cells": [
  {
   "cell_type": "code",
   "execution_count": 1,
   "metadata": {},
   "outputs": [
    {
     "data": {
      "text/plain": [
       "'/home/shreyash/python'"
      ]
     },
     "execution_count": 1,
     "metadata": {},
     "output_type": "execute_result"
    }
   ],
   "source": [
    "pwd"
   ]
  },
  {
   "cell_type": "code",
   "execution_count": 2,
   "metadata": {},
   "outputs": [
    {
     "name": "stdout",
     "output_type": "stream",
     "text": [
      "Writing new_file.txt\n"
     ]
    }
   ],
   "source": [
    "%%writefile new_file.txt\n",
    "this file is written from jupyter notebook\n",
    "i am using this file for practicing python i/o with files\n"
   ]
  },
  {
   "cell_type": "code",
   "execution_count": 3,
   "metadata": {},
   "outputs": [],
   "source": [
    "myfile = open('new_file.txt')"
   ]
  },
  {
   "cell_type": "code",
   "execution_count": 4,
   "metadata": {},
   "outputs": [
    {
     "data": {
      "text/plain": [
       "'/home/shreyash/python'"
      ]
     },
     "execution_count": 4,
     "metadata": {},
     "output_type": "execute_result"
    }
   ],
   "source": [
    "pwd"
   ]
  },
  {
   "cell_type": "code",
   "execution_count": 5,
   "metadata": {},
   "outputs": [
    {
     "name": "stdout",
     "output_type": "stream",
     "text": [
      "'boolean and None.ipynb'   List.ipynb      Strings.ipynb\r\n",
      " dictionaries.ipynb        new_file.txt    test.txt\r\n",
      " hello.py                  numbers.ipynb   Tuples.ipynb\r\n",
      "'input output.ipynb'       sets.ipynb      variables.ipynb\r\n"
     ]
    }
   ],
   "source": [
    "ls"
   ]
  },
  {
   "cell_type": "code",
   "execution_count": 6,
   "metadata": {},
   "outputs": [
    {
     "data": {
      "text/plain": [
       "'this file is written from jupyter notebook\\ni am using this file for practicing python i/o with files\\n'"
      ]
     },
     "execution_count": 6,
     "metadata": {},
     "output_type": "execute_result"
    }
   ],
   "source": [
    "myfile.read()"
   ]
  },
  {
   "cell_type": "code",
   "execution_count": 7,
   "metadata": {},
   "outputs": [
    {
     "data": {
      "text/plain": [
       "0"
      ]
     },
     "execution_count": 7,
     "metadata": {},
     "output_type": "execute_result"
    }
   ],
   "source": [
    "myfile.seek(0)"
   ]
  },
  {
   "cell_type": "code",
   "execution_count": 8,
   "metadata": {},
   "outputs": [
    {
     "data": {
      "text/plain": [
       "'this file is written from jupyter notebook\\ni am using this file for practicing python i/o with files\\n'"
      ]
     },
     "execution_count": 8,
     "metadata": {},
     "output_type": "execute_result"
    }
   ],
   "source": [
    "myfile.read()"
   ]
  },
  {
   "cell_type": "code",
   "execution_count": 9,
   "metadata": {},
   "outputs": [
    {
     "data": {
      "text/plain": [
       "''"
      ]
     },
     "execution_count": 9,
     "metadata": {},
     "output_type": "execute_result"
    }
   ],
   "source": [
    "myfile.read()"
   ]
  },
  {
   "cell_type": "code",
   "execution_count": 10,
   "metadata": {},
   "outputs": [
    {
     "ename": "AttributeError",
     "evalue": "'_io.TextIOWrapper' object has no attribute 'readLines'",
     "output_type": "error",
     "traceback": [
      "\u001b[0;31m---------------------------------------------------------------------------\u001b[0m",
      "\u001b[0;31mAttributeError\u001b[0m                            Traceback (most recent call last)",
      "\u001b[0;32m<ipython-input-10-0d98eed8aca7>\u001b[0m in \u001b[0;36m<module>\u001b[0;34m\u001b[0m\n\u001b[0;32m----> 1\u001b[0;31m \u001b[0mmyfile\u001b[0m\u001b[0;34m.\u001b[0m\u001b[0mreadLines\u001b[0m\u001b[0;34m(\u001b[0m\u001b[0;34m)\u001b[0m\u001b[0;34m\u001b[0m\u001b[0;34m\u001b[0m\u001b[0m\n\u001b[0m",
      "\u001b[0;31mAttributeError\u001b[0m: '_io.TextIOWrapper' object has no attribute 'readLines'"
     ]
    }
   ],
   "source": [
    "myfile.readLines()"
   ]
  },
  {
   "cell_type": "code",
   "execution_count": 12,
   "metadata": {},
   "outputs": [],
   "source": [
    "myfilecontent = myfile.readlines();"
   ]
  },
  {
   "cell_type": "code",
   "execution_count": 13,
   "metadata": {},
   "outputs": [
    {
     "data": {
      "text/plain": [
       "[]"
      ]
     },
     "execution_count": 13,
     "metadata": {},
     "output_type": "execute_result"
    }
   ],
   "source": [
    "myfilecontent"
   ]
  },
  {
   "cell_type": "code",
   "execution_count": 14,
   "metadata": {},
   "outputs": [
    {
     "data": {
      "text/plain": [
       "0"
      ]
     },
     "execution_count": 14,
     "metadata": {},
     "output_type": "execute_result"
    }
   ],
   "source": [
    "myfile.seek(0)"
   ]
  },
  {
   "cell_type": "code",
   "execution_count": 15,
   "metadata": {},
   "outputs": [],
   "source": [
    "myfilecontent = myfile.readlines()"
   ]
  },
  {
   "cell_type": "code",
   "execution_count": 16,
   "metadata": {},
   "outputs": [
    {
     "data": {
      "text/plain": [
       "['this file is written from jupyter notebook\\n',\n",
       " 'i am using this file for practicing python i/o with files\\n']"
      ]
     },
     "execution_count": 16,
     "metadata": {},
     "output_type": "execute_result"
    }
   ],
   "source": [
    "myfilecontent"
   ]
  },
  {
   "cell_type": "code",
   "execution_count": 17,
   "metadata": {},
   "outputs": [
    {
     "data": {
      "text/plain": [
       "[]"
      ]
     },
     "execution_count": 17,
     "metadata": {},
     "output_type": "execute_result"
    }
   ],
   "source": [
    "myfile.readlines()"
   ]
  },
  {
   "cell_type": "code",
   "execution_count": 18,
   "metadata": {},
   "outputs": [],
   "source": [
    "myfile.close()"
   ]
  },
  {
   "cell_type": "code",
   "execution_count": 19,
   "metadata": {},
   "outputs": [
    {
     "ename": "ValueError",
     "evalue": "I/O operation on closed file.",
     "output_type": "error",
     "traceback": [
      "\u001b[0;31m---------------------------------------------------------------------------\u001b[0m",
      "\u001b[0;31mValueError\u001b[0m                                Traceback (most recent call last)",
      "\u001b[0;32m<ipython-input-19-f51008fa62ae>\u001b[0m in \u001b[0;36m<module>\u001b[0;34m\u001b[0m\n\u001b[0;32m----> 1\u001b[0;31m \u001b[0mmyfile\u001b[0m\u001b[0;34m.\u001b[0m\u001b[0mread\u001b[0m\u001b[0;34m(\u001b[0m\u001b[0;34m)\u001b[0m\u001b[0;34m\u001b[0m\u001b[0;34m\u001b[0m\u001b[0m\n\u001b[0m",
      "\u001b[0;31mValueError\u001b[0m: I/O operation on closed file."
     ]
    }
   ],
   "source": [
    "myfile.read()"
   ]
  },
  {
   "cell_type": "code",
   "execution_count": 20,
   "metadata": {},
   "outputs": [
    {
     "data": {
      "text/plain": [
       "'/home/shreyash/python'"
      ]
     },
     "execution_count": 20,
     "metadata": {},
     "output_type": "execute_result"
    }
   ],
   "source": [
    "pwd"
   ]
  },
  {
   "cell_type": "code",
   "execution_count": 21,
   "metadata": {},
   "outputs": [],
   "source": [
    "file = open('/home/shreyash/processes.txt')"
   ]
  },
  {
   "cell_type": "code",
   "execution_count": 22,
   "metadata": {},
   "outputs": [
    {
     "data": {
      "text/plain": [
       "'  PID TTY      STAT   TIME COMMAND\\n    1 ?        Ss     0:05 /sbin/init splash\\n    2 ?        S      0:00 [kthreadd]\\n    4 ?        I<     0:00 [kworker/0:0H]\\n    6 ?        I<     0:00 [mm_percpu_wq]\\n    7 ?        S      0:00 [ksoftirqd/0]\\n    8 ?        I      0:04 [rcu_sched]\\n    9 ?        I      0:00 [rcu_bh]\\n   10 ?        S      0:00 [migration/0]\\n   11 ?        S      0:00 [watchdog/0]\\n   12 ?        S      0:00 [cpuhp/0]\\n   13 ?        S      0:00 [cpuhp/1]\\n   14 ?        S      0:00 [watchdog/1]\\n   15 ?        S      0:00 [migration/1]\\n   16 ?        S      0:00 [ksoftirqd/1]\\n   18 ?        I<     0:00 [kworker/1:0H]\\n   19 ?        S      0:00 [cpuhp/2]\\n   20 ?        S      0:00 [watchdog/2]\\n   21 ?        S      0:00 [migration/2]\\n   22 ?        S      0:00 [ksoftirqd/2]\\n   24 ?        I<     0:00 [kworker/2:0H]\\n   25 ?        S      0:00 [cpuhp/3]\\n   26 ?        S      0:00 [watchdog/3]\\n   27 ?        S      0:00 [migration/3]\\n   28 ?        S      0:00 [ksoftirqd/3]\\n   30 ?        I<     0:00 [kworker/3:0H]\\n   31 ?        S      0:00 [kdevtmpfs]\\n   32 ?        I<     0:00 [netns]\\n   33 ?        S      0:00 [rcu_tasks_kthre]\\n   34 ?        S      0:00 [kauditd]\\n   38 ?        S      0:00 [khungtaskd]\\n   39 ?        S      0:00 [oom_reaper]\\n   40 ?        I<     0:00 [writeback]\\n   41 ?        S      0:00 [kcompactd0]\\n   42 ?        SN     0:00 [ksmd]\\n   43 ?        SN     0:00 [khugepaged]\\n   44 ?        I<     0:00 [crypto]\\n   45 ?        I<     0:00 [kintegrityd]\\n   46 ?        I<     0:00 [kblockd]\\n   48 ?        I<     0:00 [ata_sff]\\n   49 ?        I<     0:00 [md]\\n   50 ?        I<     0:00 [edac-poller]\\n   52 ?        I<     0:00 [devfreq_wq]\\n   53 ?        I<     0:00 [watchdogd]\\n   56 ?        S      0:00 [kswapd0]\\n   57 ?        S      0:00 [ecryptfs-kthrea]\\n   99 ?        I<     0:00 [kthrotld]\\n  100 ?        I<     0:00 [acpi_thermal_pm]\\n  105 ?        I<     0:00 [ipv6_addrconf]\\n  114 ?        I<     0:00 [kstrp]\\n  135 ?        I<     0:00 [charger_manager]\\n  180 ?        S      0:00 [scsi_eh_0]\\n  181 ?        I<     0:00 [scsi_tmf_0]\\n  182 ?        S      0:00 [scsi_eh_1]\\n  183 ?        I<     0:00 [scsi_tmf_1]\\n  187 ?        I<     0:00 [ttm_swap]\\n  188 ?        I<     0:00 [kworker/u9:0]\\n  189 ?        S      0:01 [i915/signal:0]\\n  190 ?        S      0:00 [i915/signal:1]\\n  191 ?        S      0:00 [i915/signal:2]\\n  192 ?        S      0:00 [i915/signal:4]\\n  196 ?        I<     0:00 [kworker/1:1H]\\n  200 ?        I<     0:00 [kworker/2:1H]\\n  229 ?        S      0:00 [jbd2/sda9-8]\\n  230 ?        I<     0:00 [ext4-rsv-conver]\\n  256 ?        I<     0:00 [kworker/3:1H]\\n  268 ?        S<s    0:01 /lib/systemd/systemd-journald\\n  275 ?        I<     0:00 [kworker/0:1H]\\n  278 ?        Ss     0:00 /lib/systemd/systemd-udevd\\n  308 ?        S<     0:00 [loop0]\\n  318 ?        S<     0:00 [loop1]\\n  327 ?        S      0:20 [irq/51-DLLC6B2:]\\n  341 ?        S<     0:00 [loop2]\\n  343 ?        S<     0:00 [loop3]\\n  345 ?        S<     0:00 [loop4]\\n  347 ?        S<     0:00 [loop5]\\n  349 ?        S<     0:00 [loop6]\\n  351 ?        S<     0:00 [loop7]\\n  353 ?        S<     0:00 [loop8]\\n  355 ?        S<     0:00 [loop9]\\n  358 ?        S<     0:00 [loop10]\\n  360 ?        S<     0:00 [loop11]\\n  363 ?        S<     0:00 [loop12]\\n  367 ?        I<     0:00 [kmemstick]\\n  368 ?        I      0:01 [rtsx_usb_ms_1]\\n  374 ?        I<     0:00 [cfg80211]\\n  375 ?        S      0:06 [irq/128-iwlwifi]\\n  616 ?        Ss     0:01 /lib/systemd/systemd-resolved\\n  617 ?        Ssl    0:00 /lib/systemd/systemd-timesyncd\\n  716 ?        Ssl    0:00 /usr/sbin/ModemManager\\n  718 ?        Ssl    0:01 /usr/sbin/thermald --no-daemon --dbus-enable\\n  719 ?        Ssl    0:01 /usr/lib/udisks2/udisksd\\n  721 ?        Ss     0:00 /lib/systemd/systemd-logind\\n  722 ?        Ss     0:05 /usr/bin/dbus-daemon --system --address=systemd: --nofork --nopidfile --systemd-activation --syslog-only\\n  762 ?        Ssl    0:04 /usr/sbin/NetworkManager --no-daemon\\n  763 ?        Ssl    0:00 /usr/sbin/rsyslogd -n\\n  766 ?        Ssl    0:01 /usr/sbin/irqbalance --foreground\\n  767 ?        Ssl    0:00 /usr/lib/accountsservice/accounts-daemon\\n  769 ?        Ss     0:01 avahi-daemon: running [Itachi.local]\\n  776 ?        Ss     0:00 /usr/lib/bluetooth/bluetoothd\\n  780 ?        Ssl    0:00 /usr/bin/python3 /usr/bin/networkd-dispatcher\\n  781 ?        Ss     0:00 /usr/sbin/cron -f\\n  785 ?        Ss     0:00 /usr/sbin/acpid\\n  786 ?        Ss     0:00 /sbin/wpa_supplicant -u -s -O /run/wpa_supplicant\\n  789 ?        Ssl    0:02 /usr/lib/snapd/snapd\\n  800 ?        Ssl    0:00 /usr/lib/policykit-1/polkitd --no-debug\\n  818 ?        S      0:00 avahi-daemon: chroot helper\\n  868 ?        Ssl    0:00 /usr/sbin/gdm3\\n  874 ?        Sl     0:00 gdm-session-worker [pam/gdm-launch-environment]\\n  896 ?        Ss     0:00 /lib/systemd/systemd --user\\n  897 ?        S      0:00 (sd-pam)\\n  925 tty1     Ssl+   0:00 /usr/lib/gdm3/gdm-wayland-session gnome-session --autostart /usr/share/gdm/greeter/autostart\\n  927 ?        Ss     0:00 /usr/bin/dbus-daemon --session --address=systemd: --nofork --nopidfile --systemd-activation --syslog-only\\n  929 tty1     Sl+    0:00 /usr/lib/gnome-session/gnome-session-binary --autostart /usr/share/gdm/greeter/autostart\\n  935 tty1     Sl+    0:35 /usr/bin/gnome-shell\\n  940 ?        Ssl    0:01 /usr/lib/upower/upowerd\\n  963 tty1     Sl+    0:00 /usr/bin/Xwayland :1024 -rootless -terminate -accessx -core -listen 4 -listen 5 -displayfd 6\\n  978 ?        Ssl    0:00 /usr/lib/at-spi2-core/at-spi-bus-launcher\\n  983 ?        S      0:00 /usr/bin/dbus-daemon --config-file=/usr/share/defaults/at-spi2/accessibility.conf --nofork --print-address 3\\n  985 ?        Sl     0:00 /usr/lib/at-spi2-core/at-spi2-registryd --use-gnome-session\\n  989 ?        Ssl    0:00 /usr/bin/pulseaudio --daemonize=no\\n  990 ?        SNsl   0:00 /usr/lib/rtkit/rtkit-daemon\\n 1005 tty1     Sl     0:00 ibus-daemon --xim --panel disable\\n 1008 tty1     Sl     0:00 /usr/lib/ibus/ibus-dconf\\n 1011 tty1     Sl     0:00 /usr/lib/ibus/ibus-x11 --kill-daemon\\n 1013 ?        Sl     0:00 /usr/lib/ibus/ibus-portal\\n 1025 ?        Ssl    0:00 /usr/lib/x86_64-linux-gnu/boltd\\n 1026 ?        Ssl    0:11 /usr/lib/packagekit/packagekitd\\n 1027 tty1     Sl+    0:00 /usr/lib/gnome-settings-daemon/gsd-xsettings\\n 1030 tty1     Sl+    0:00 /usr/lib/gnome-settings-daemon/gsd-a11y-settings\\n 1033 tty1     Sl+    0:00 /usr/lib/gnome-settings-daemon/gsd-clipboard\\n 1034 tty1     Sl+    0:01 /usr/lib/gnome-settings-daemon/gsd-color\\n 1037 tty1     Sl+    0:00 /usr/lib/gnome-settings-daemon/gsd-datetime\\n 1038 tty1     Sl+    0:00 /usr/lib/gnome-settings-daemon/gsd-housekeeping\\n 1039 tty1     Sl+    0:00 /usr/lib/gnome-settings-daemon/gsd-keyboard\\n 1040 tty1     Sl+    0:00 /usr/lib/gnome-settings-daemon/gsd-media-keys\\n 1044 tty1     Sl+    0:00 /usr/lib/gnome-settings-daemon/gsd-mouse\\n 1045 tty1     Sl+    0:00 /usr/lib/gnome-settings-daemon/gsd-power\\n 1046 tty1     Sl+    0:00 /usr/lib/gnome-settings-daemon/gsd-print-notifications\\n 1048 tty1     Sl+    0:00 /usr/lib/gnome-settings-daemon/gsd-rfkill\\n 1054 tty1     Sl+    0:00 /usr/lib/gnome-settings-daemon/gsd-screensaver-proxy\\n 1058 tty1     Sl+    0:00 /usr/lib/gnome-settings-daemon/gsd-sharing\\n 1061 tty1     Sl+    0:00 /usr/lib/gnome-settings-daemon/gsd-smartcard\\n 1063 tty1     Sl+    0:00 /usr/lib/gnome-settings-daemon/gsd-sound\\n 1068 tty1     Sl+    0:00 /usr/lib/gnome-settings-daemon/gsd-wacom\\n 1082 tty1     Sl     0:00 /usr/lib/ibus/ibus-engine-simple\\n 1110 ?        Ssl    0:00 /usr/lib/colord/colord\\n 1136 ?        Sl     0:00 gdm-session-worker [pam/gdm-password]\\n 1140 ?        Ss     0:00 /lib/systemd/systemd --user\\n 1141 ?        S      0:00 (sd-pam)\\n 1154 ?        Sl     0:00 /usr/bin/gnome-keyring-daemon --daemonize --login\\n 1158 tty2     Ssl+   0:00 /usr/lib/gdm3/gdm-x-session --run-script env GNOME_SHELL_SESSION_MODE=ubuntu gnome-session --session=ubuntu\\n 1160 tty2     Sl+    3:47 /usr/lib/xorg/Xorg vt2 -displayfd 3 -auth /run/user/1000/gdm/Xauthority -background none -noreset -keeptty -verbose 3\\n 1172 ?        Ss     0:00 /usr/bin/dbus-daemon --session --address=systemd: --nofork --nopidfile --systemd-activation --syslog-only\\n 1175 tty2     Sl+    0:00 /usr/lib/gnome-session/gnome-session-binary --session=ubuntu\\n 1269 ?        Ss     0:00 /usr/bin/ssh-agent /usr/bin/im-launch env GNOME_SHELL_SESSION_MODE=ubuntu gnome-session --session=ubuntu\\n 1272 ?        Ssl    0:00 /usr/lib/gvfs/gvfsd\\n 1277 ?        Sl     0:00 /usr/lib/gvfs/gvfsd-fuse /run/user/1000/gvfs -f -o big_writes\\n 1285 ?        Ssl    0:00 /usr/lib/at-spi2-core/at-spi-bus-launcher\\n 1291 ?        S      0:00 /usr/bin/dbus-daemon --config-file=/usr/share/defaults/at-spi2/accessibility.conf --nofork --print-address 3\\n 1294 ?        Sl     0:02 /usr/lib/at-spi2-core/at-spi2-registryd --use-gnome-session\\n 1308 tty2     Sl+    5:14 /usr/bin/gnome-shell\\n 1317 ?        S<l    0:29 /usr/bin/pulseaudio --start --log-target=syslog\\n 1321 ?        S<     0:00 [krfcommd]\\n 1335 tty2     Sl     0:18 ibus-daemon --xim --panel disable\\n 1340 tty2     Sl     0:00 /usr/lib/ibus/ibus-dconf\\n 1342 tty2     Sl     0:00 /usr/lib/ibus/ibus-x11 --kill-daemon\\n 1344 ?        Sl     0:00 /usr/lib/ibus/ibus-portal\\n 1355 ?        Sl     0:00 /usr/lib/gnome-shell/gnome-shell-calendar-server\\n 1364 ?        Ssl    0:00 /usr/lib/gvfs/gvfs-udisks2-volume-monitor\\n 1370 ?        Ssl    0:00 /usr/lib/evolution/evolution-source-registry\\n 1372 ?        Ssl    0:00 /usr/lib/gvfs/gvfs-goa-volume-monitor\\n 1378 ?        Sl     0:00 /usr/lib/gnome-online-accounts/goa-daemon\\n 1394 ?        Sl     0:00 /usr/lib/gnome-online-accounts/goa-identity-service\\n 1399 ?        Ssl    0:00 /usr/lib/gvfs/gvfs-afc-volume-monitor\\n 1404 ?        Ssl    0:00 /usr/lib/gvfs/gvfs-gphoto2-volume-monitor\\n 1408 ?        Ssl    0:00 /usr/lib/gvfs/gvfs-mtp-volume-monitor\\n 1414 tty2     Sl+    0:00 /usr/lib/gnome-settings-daemon/gsd-power\\n 1415 tty2     Sl+    0:00 /usr/lib/gnome-settings-daemon/gsd-print-notifications\\n 1416 tty2     Sl+    0:00 /usr/lib/gnome-settings-daemon/gsd-rfkill\\n 1417 tty2     Sl+    0:00 /usr/lib/gnome-settings-daemon/gsd-screensaver-proxy\\n 1422 tty2     Sl+    0:02 /usr/lib/gnome-settings-daemon/gsd-sharing\\n 1427 tty2     Sl+    0:00 /usr/lib/gnome-settings-daemon/gsd-sound\\n 1433 tty2     Sl+    0:00 /usr/lib/gnome-settings-daemon/gsd-xsettings\\n 1438 tty2     Sl+    0:00 /usr/lib/gnome-settings-daemon/gsd-smartcard\\n 1443 tty2     Sl+    0:00 /usr/lib/gnome-settings-daemon/gsd-wacom\\n 1448 tty2     Sl+    0:00 /usr/lib/gnome-settings-daemon/gsd-clipboard\\n 1452 tty2     Sl+    0:00 /usr/lib/gnome-settings-daemon/gsd-a11y-settings\\n 1456 tty2     Sl+    0:00 /usr/lib/gnome-settings-daemon/gsd-datetime\\n 1457 tty2     Sl+    0:01 /usr/lib/gnome-settings-daemon/gsd-color\\n 1460 tty2     Sl+    0:00 /usr/lib/gnome-settings-daemon/gsd-keyboard\\n 1463 tty2     Sl+    0:00 /usr/lib/gnome-settings-daemon/gsd-housekeeping\\n 1464 tty2     Sl+    0:00 /usr/lib/gnome-settings-daemon/gsd-mouse\\n 1470 tty2     Sl+    0:00 /usr/lib/gnome-settings-daemon/gsd-media-keys\\n 1492 tty2     Sl+    0:00 /usr/lib/gnome-settings-daemon/gsd-printer\\n 1511 tty2     Sl+    0:01 nautilus-desktop\\n 1512 tty2     Sl+    0:00 /usr/lib/gnome-disk-utility/gsd-disk-utility-notify\\n 1517 tty2     SLl+   0:04 /usr/bin/gnome-software --gapplication-service\\n 1529 ?        Ssl    0:00 /usr/lib/evolution/evolution-calendar-factory\\n 1540 tty2     Sl     0:05 /usr/lib/ibus/ibus-engine-simple\\n 1550 ?        Sl     0:00 /usr/lib/gvfs/gvfsd-trash --spawner :1.7 /org/gtk/gvfs/exec_spaw/0\\n 1574 ?        Sl     0:00 /usr/lib/dconf/dconf-service\\n 1581 ?        Sl     0:00 /usr/lib/evolution/evolution-calendar-factory-subprocess --factory all --bus-name org.gnome.evolution.dataserver.Subprocess.Backend.Calendarx1529x2 --own-path /org/gnome/evolution/dataserver/Subprocess/Backend/Calendar/1529/2\\n 1590 ?        Ssl    0:00 /usr/lib/evolution/evolution-addressbook-factory\\n 1603 ?        Sl     0:00 /usr/lib/evolution/evolution-addressbook-factory-subprocess --factory all --bus-name org.gnome.evolution.dataserver.Subprocess.Backend.AddressBookx1590x2 --own-path /org/gnome/evolution/dataserver/Subprocess/Backend/AddressBook/1590/2\\n 1622 ?        Ssl    0:00 /usr/lib/fwupd/fwupd\\n 1627 ?        Ssl    0:00 /usr/lib/gvfs/gvfsd-metadata\\n 1648 ?        Ssl    0:00 /usr/bin/whoopsie -f\\n 1649 ?        Ss     0:00 /usr/sbin/kerneloops --test\\n 1651 ?        Ss     0:00 /usr/sbin/kerneloops\\n 1686 tty2     Sl+    9:38 /usr/lib/firefox/firefox -new-window\\n 1797 tty2     Sl+    0:40 /usr/lib/firefox/firefox -contentproc -childID 1 -isForBrowser -prefsLen 8414 -schedulerPrefs 0001,2 -greomni /usr/lib/firefox/omni.ja -appomni /usr/lib/firefox/browser/omni.ja -appdir /usr/lib/firefox/browser 1686 true tab\\n 1948 ?        Sl     0:00 /usr/lib/dconf/dconf-service\\n 1969 tty2     Sl+    5:59 /usr/lib/firefox/firefox -contentproc -childID 3 -isForBrowser -prefsLen 12124 -schedulerPrefs 0001,2 -greomni /usr/lib/firefox/omni.ja -appomni /usr/lib/firefox/browser/omni.ja -appdir /usr/lib/firefox/browser 1686 true tab\\n 2189 tty2     Sl+    0:00 update-notifier\\n 2270 tty2     Sl+    0:00 /usr/lib/deja-dup/deja-dup-monitor\\n 2874 ?        I      0:00 [kworker/2:2]\\n 3306 ?        S      0:00 [irq/127-mei_me]\\n 3311 ?        I<     0:00 [kworker/u9:1]\\n 3564 tty2     Sl+    0:34 /usr/lib/firefox/firefox -contentproc -childID 8 -isForBrowser -prefsLen 12096 -schedulerPrefs 0001,2 -greomni /usr/lib/firefox/omni.ja -appomni /usr/lib/firefox/browser/omni.ja -appdir /usr/lib/firefox/browser 1686 true tab\\n 3719 ?        I      0:00 [kworker/1:0]\\n 3723 ?        I      0:01 [kworker/3:0]\\n 3825 tty2     Sl+    0:00 /usr/lib/libreoffice/program/oosplash --writer file:///tmp/mozilla_shreyash0/Experiment_No_1_17_18.doc\\n 3842 tty2     Sl+    0:51 /usr/lib/libreoffice/program/soffice.bin --writer file:///tmp/mozilla_shreyash0/Experiment_No_1_17_18.doc --splash-pipe=5\\n 3977 ?        Ssl    0:19 /usr/lib/gnome-terminal/gnome-terminal-server\\n 3987 pts/0    Ss     0:00 bash\\n 5023 ?        Ss     0:00 /usr/sbin/cupsd -l\\n 5024 ?        Ssl    0:00 /usr/sbin/cups-browsed\\n 5297 ?        I      0:00 [kworker/u8:1]\\n 5309 ?        I      0:00 [kworker/u8:2]\\n 5317 ?        I      0:00 [kworker/0:1]\\n 5396 tty2     Sl+    0:13 /usr/lib/firefox/firefox -contentproc -childID 11 -isForBrowser -prefsLen 12096 -schedulerPrefs 0001,2 -greomni /usr/lib/firefox/omni.ja -appomni /usr/lib/firefox/browser/omni.ja -appdir /usr/lib/firefox/browser 1686 true tab\\n 5612 ?        I      0:00 [kworker/u8:0]\\n 5629 ?        I      0:00 [kworker/3:2]\\n 5690 ?        I      0:00 [kworker/1:1]\\n 5692 ?        I      0:00 [kworker/3:1]\\n 5694 ?        I      0:00 [kworker/2:0]\\n 5710 ?        I      0:00 [kworker/0:2]\\n 5712 ?        I      0:00 [kworker/3:3]\\n 5713 ?        I      0:00 [kworker/1:2]\\n 5743 ?        I      0:00 [kworker/u8:3]\\n 5748 ?        I      0:00 [kworker/2:1]\\n 5751 ?        I      0:00 [kworker/0:0]\\n 5753 pts/0    R+     0:00 ps -ax\\n 5754 pts/0    S+     0:00 tee processes.txt\\n 5755 pts/0    S+     0:00 more\\n'"
      ]
     },
     "execution_count": 22,
     "metadata": {},
     "output_type": "execute_result"
    }
   ],
   "source": [
    "file.read()"
   ]
  },
  {
   "cell_type": "code",
   "execution_count": 26,
   "metadata": {},
   "outputs": [
    {
     "name": "stdout",
     "output_type": "stream",
     "text": [
      "this file is written from jupyter notebook\n",
      "i am using this file for practicing python i/o with files\n",
      "\n"
     ]
    }
   ],
   "source": [
    "with open('new_file.txt') as File :\n",
    "    Filecontent = File.read()\n",
    "    print(f\"{Filecontent}\")"
   ]
  },
  {
   "cell_type": "code",
   "execution_count": 24,
   "metadata": {},
   "outputs": [
    {
     "data": {
      "text/plain": [
       "'/home/shreyash/python'"
      ]
     },
     "execution_count": 24,
     "metadata": {},
     "output_type": "execute_result"
    }
   ],
   "source": [
    "pwd"
   ]
  },
  {
   "cell_type": "code",
   "execution_count": 25,
   "metadata": {},
   "outputs": [
    {
     "name": "stdout",
     "output_type": "stream",
     "text": [
      "'boolean and None.ipynb'   List.ipynb      Strings.ipynb\r\n",
      " dictionaries.ipynb        new_file.txt    test.txt\r\n",
      " hello.py                  numbers.ipynb   Tuples.ipynb\r\n",
      "'input output.ipynb'       sets.ipynb      variables.ipynb\r\n"
     ]
    }
   ],
   "source": [
    "ls"
   ]
  },
  {
   "cell_type": "code",
   "execution_count": 27,
   "metadata": {},
   "outputs": [
    {
     "ename": "ValueError",
     "evalue": "I/O operation on closed file.",
     "output_type": "error",
     "traceback": [
      "\u001b[0;31m---------------------------------------------------------------------------\u001b[0m",
      "\u001b[0;31mValueError\u001b[0m                                Traceback (most recent call last)",
      "\u001b[0;32m<ipython-input-27-26c5e6ebf213>\u001b[0m in \u001b[0;36m<module>\u001b[0;34m\u001b[0m\n\u001b[0;32m----> 1\u001b[0;31m \u001b[0mFile\u001b[0m\u001b[0;34m.\u001b[0m\u001b[0mread\u001b[0m\u001b[0;34m(\u001b[0m\u001b[0;34m)\u001b[0m\u001b[0;34m\u001b[0m\u001b[0;34m\u001b[0m\u001b[0m\n\u001b[0m",
      "\u001b[0;31mValueError\u001b[0m: I/O operation on closed file."
     ]
    }
   ],
   "source": [
    "File.read()"
   ]
  },
  {
   "cell_type": "code",
   "execution_count": 30,
   "metadata": {},
   "outputs": [
    {
     "ename": "UnsupportedOperation",
     "evalue": "not readable",
     "output_type": "error",
     "traceback": [
      "\u001b[0;31m---------------------------------------------------------------------------\u001b[0m",
      "\u001b[0;31mUnsupportedOperation\u001b[0m                      Traceback (most recent call last)",
      "\u001b[0;32m<ipython-input-30-153f7f368722>\u001b[0m in \u001b[0;36m<module>\u001b[0;34m\u001b[0m\n\u001b[1;32m      1\u001b[0m \u001b[0;32mwith\u001b[0m \u001b[0mopen\u001b[0m\u001b[0;34m(\u001b[0m\u001b[0;34m'new_file.txt'\u001b[0m\u001b[0;34m,\u001b[0m\u001b[0mmode\u001b[0m \u001b[0;34m=\u001b[0m \u001b[0;34m'w'\u001b[0m\u001b[0;34m)\u001b[0m \u001b[0;32mas\u001b[0m \u001b[0mmyfile\u001b[0m\u001b[0;34m:\u001b[0m\u001b[0;34m\u001b[0m\u001b[0;34m\u001b[0m\u001b[0m\n\u001b[0;32m----> 2\u001b[0;31m     \u001b[0mcontent\u001b[0m \u001b[0;34m=\u001b[0m  \u001b[0mmyfile\u001b[0m\u001b[0;34m.\u001b[0m\u001b[0mread\u001b[0m\u001b[0;34m(\u001b[0m\u001b[0;34m)\u001b[0m\u001b[0;34m\u001b[0m\u001b[0;34m\u001b[0m\u001b[0m\n\u001b[0m",
      "\u001b[0;31mUnsupportedOperation\u001b[0m: not readable"
     ]
    }
   ],
   "source": [
    "with open('new_file.txt',mode = 'w') as myfile:\n",
    "    content =  myfile.read()\n"
   ]
  },
  {
   "cell_type": "code",
   "execution_count": 29,
   "metadata": {},
   "outputs": [
    {
     "data": {
      "text/plain": [
       "'this file is written from jupyter notebook\\ni am using this file for practicing python i/o with files\\n'"
      ]
     },
     "execution_count": 29,
     "metadata": {},
     "output_type": "execute_result"
    }
   ],
   "source": [
    "content"
   ]
  },
  {
   "cell_type": "code",
   "execution_count": 31,
   "metadata": {},
   "outputs": [
    {
     "name": "stdout",
     "output_type": "stream",
     "text": [
      "Writing textfile.txt\n"
     ]
    }
   ],
   "source": [
    "%%writefile textfile.txt\n",
    "this is some content for practicing file.\n",
    "this all practice is done by me."
   ]
  },
  {
   "cell_type": "code",
   "execution_count": 32,
   "metadata": {},
   "outputs": [
    {
     "ename": "TypeError",
     "evalue": "write() takes exactly one argument (0 given)",
     "output_type": "error",
     "traceback": [
      "\u001b[0;31m---------------------------------------------------------------------------\u001b[0m",
      "\u001b[0;31mTypeError\u001b[0m                                 Traceback (most recent call last)",
      "\u001b[0;32m<ipython-input-32-1810b0b45d78>\u001b[0m in \u001b[0;36m<module>\u001b[0;34m\u001b[0m\n\u001b[1;32m      1\u001b[0m \u001b[0;32mwith\u001b[0m \u001b[0mopen\u001b[0m\u001b[0;34m(\u001b[0m\u001b[0;34m'textfile.txt'\u001b[0m\u001b[0;34m,\u001b[0m\u001b[0mmode\u001b[0m\u001b[0;34m=\u001b[0m\u001b[0;34m'r'\u001b[0m\u001b[0;34m)\u001b[0m \u001b[0;32mas\u001b[0m \u001b[0mfile\u001b[0m \u001b[0;34m:\u001b[0m\u001b[0;34m\u001b[0m\u001b[0;34m\u001b[0m\u001b[0m\n\u001b[0;32m----> 2\u001b[0;31m     \u001b[0mfile\u001b[0m\u001b[0;34m.\u001b[0m\u001b[0mwrite\u001b[0m\u001b[0;34m(\u001b[0m\u001b[0;34m)\u001b[0m\u001b[0;34m\u001b[0m\u001b[0;34m\u001b[0m\u001b[0m\n\u001b[0m",
      "\u001b[0;31mTypeError\u001b[0m: write() takes exactly one argument (0 given)"
     ]
    }
   ],
   "source": [
    "with open('textfile.txt',mode='r') as file :\n",
    "    file.write()"
   ]
  },
  {
   "cell_type": "code",
   "execution_count": 33,
   "metadata": {},
   "outputs": [
    {
     "name": "stdout",
     "output_type": "stream",
     "text": [
      "this is some content for practicing file.\n",
      "this all practice is done by me.\n",
      "\n"
     ]
    }
   ],
   "source": [
    "with open('textfile.txt',mode='r') as file:\n",
    "    print(f\"{file.read()}\")"
   ]
  },
  {
   "cell_type": "code",
   "execution_count": 37,
   "metadata": {},
   "outputs": [
    {
     "name": "stdout",
     "output_type": "stream",
     "text": [
      "24\n"
     ]
    }
   ],
   "source": [
    "with open('textfile.txt',mode = 'w') as file:\n",
    "    print(f\"{file.write('this is a last statement')}\")\n",
    "         "
   ]
  },
  {
   "cell_type": "code",
   "execution_count": 39,
   "metadata": {},
   "outputs": [
    {
     "name": "stdout",
     "output_type": "stream",
     "text": [
      "this is a last statement\n"
     ]
    }
   ],
   "source": [
    "with open('textfile.txt',mode='r') as f :\n",
    "    f.seek(0)\n",
    "    print(f.read())"
   ]
  },
  {
   "cell_type": "code",
   "execution_count": 40,
   "metadata": {},
   "outputs": [
    {
     "ename": "UnsupportedOperation",
     "evalue": "not readable",
     "output_type": "error",
     "traceback": [
      "\u001b[0;31m---------------------------------------------------------------------------\u001b[0m",
      "\u001b[0;31mUnsupportedOperation\u001b[0m                      Traceback (most recent call last)",
      "\u001b[0;32m<ipython-input-40-7b7d628508de>\u001b[0m in \u001b[0;36m<module>\u001b[0;34m\u001b[0m\n\u001b[1;32m      1\u001b[0m \u001b[0;32mwith\u001b[0m \u001b[0mopen\u001b[0m\u001b[0;34m(\u001b[0m\u001b[0;34m'textfile.txt'\u001b[0m\u001b[0;34m,\u001b[0m\u001b[0mmode\u001b[0m\u001b[0;34m=\u001b[0m\u001b[0;34m'a'\u001b[0m\u001b[0;34m)\u001b[0m \u001b[0;32mas\u001b[0m \u001b[0mf\u001b[0m\u001b[0;34m:\u001b[0m\u001b[0;34m\u001b[0m\u001b[0;34m\u001b[0m\u001b[0m\n\u001b[1;32m      2\u001b[0m     \u001b[0mf\u001b[0m\u001b[0;34m.\u001b[0m\u001b[0mwrite\u001b[0m\u001b[0;34m(\u001b[0m\u001b[0;34m\"this is appending statement\"\u001b[0m\u001b[0;34m)\u001b[0m\u001b[0;34m\u001b[0m\u001b[0;34m\u001b[0m\u001b[0m\n\u001b[0;32m----> 3\u001b[0;31m     \u001b[0mprint\u001b[0m\u001b[0;34m(\u001b[0m\u001b[0;34m{\u001b[0m\u001b[0mf\u001b[0m\u001b[0;34m.\u001b[0m\u001b[0mread\u001b[0m\u001b[0;34m(\u001b[0m\u001b[0;34m)\u001b[0m\u001b[0;34m}\u001b[0m\u001b[0;34m)\u001b[0m\u001b[0;34m\u001b[0m\u001b[0;34m\u001b[0m\u001b[0m\n\u001b[0m",
      "\u001b[0;31mUnsupportedOperation\u001b[0m: not readable"
     ]
    }
   ],
   "source": [
    "with open('textfile.txt',mode='a') as f:\n",
    "    f.write(\"this is appending statement\")\n",
    "    print({f.read()})"
   ]
  },
  {
   "cell_type": "code",
   "execution_count": 41,
   "metadata": {},
   "outputs": [],
   "source": [
    "with open('textfile.txt',mode='a') as f:\n",
    "    f.write(\"this is appending statement\")\n",
    "   "
   ]
  },
  {
   "cell_type": "code",
   "execution_count": 50,
   "metadata": {},
   "outputs": [
    {
     "name": "stdout",
     "output_type": "stream",
     "text": [
      "this is read and wirte mode\n",
      "\n"
     ]
    }
   ],
   "source": [
    "with open('textfile.txt',mode='r+') as f:\n",
    "    print(f\"{f.read()}\")\n",
    "    f.write(\"this is read and wirte mode\") \n",
    "    print(f\"{f.read()}\")"
   ]
  },
  {
   "cell_type": "code",
   "execution_count": 53,
   "metadata": {},
   "outputs": [
    {
     "name": "stdout",
     "output_type": "stream",
     "text": [
      "this is new line\n"
     ]
    }
   ],
   "source": [
    "with open('textfile.txt',mode='r') as f:\n",
    " \n",
    "    print(f.read())\n",
    "    f.clo"
   ]
  },
  {
   "cell_type": "code",
   "execution_count": null,
   "metadata": {},
   "outputs": [],
   "source": []
  }
 ],
 "metadata": {
  "kernelspec": {
   "display_name": "Python 3",
   "language": "python",
   "name": "python3"
  },
  "language_info": {
   "codemirror_mode": {
    "name": "ipython",
    "version": 3
   },
   "file_extension": ".py",
   "mimetype": "text/x-python",
   "name": "python",
   "nbconvert_exporter": "python",
   "pygments_lexer": "ipython3",
   "version": "3.7.3"
  }
 },
 "nbformat": 4,
 "nbformat_minor": 2
}
